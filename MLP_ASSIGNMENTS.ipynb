{
  "nbformat": 4,
  "nbformat_minor": 0,
  "metadata": {
    "colab": {
      "provenance": [],
      "authorship_tag": "ABX9TyMdaQ6GWcbUNiGGO4iq5vOB",
      "include_colab_link": true
    },
    "kernelspec": {
      "name": "python3",
      "display_name": "Python 3"
    },
    "language_info": {
      "name": "python"
    }
  },
  "cells": [
    {
      "cell_type": "markdown",
      "metadata": {
        "id": "view-in-github",
        "colab_type": "text"
      },
      "source": [
        "<a href=\"https://colab.research.google.com/github/Vijayrajs-dev/Python-Assignment-8-am-sep-2025/blob/main/MLP_ASSIGNMENTS.ipynb\" target=\"_parent\"><img src=\"https://colab.research.google.com/assets/colab-badge.svg\" alt=\"Open In Colab\"/></a>"
      ]
    },
    {
      "cell_type": "markdown",
      "source": [
        "ASSIGNMENT 1[02-09-2025]\n",
        "1. What is Python and why is it called an interpreted language?\n",
        "Python is a high-level, general-purpose programming language.\n",
        "\n",
        "It is called an interpreted language because Python code is executed line by line instead of converting the whole program into machine code at once.\n",
        "\n",
        "This makes debugging easier but a bit slower compared to compiled languages.\n",
        "\n",
        "\n",
        "2. What are the key features of Python that make it popular for beginners and professionals?\n",
        "Simple & Readable → Looks like English, easy for beginners.\n",
        "\n",
        "Cross-platform → Works on Windows, Mac, Linux.\n",
        "\n",
        "Large Libraries → Prebuilt modules for data, AI, web, etc.\n",
        "\n",
        "Open-source & free → Anyone can use and modify.\n",
        "\n",
        "Community support → Huge global community with lots of tutorials.\n",
        "\n",
        "\n",
        "3. What is the difference between Python 2 and Python 3?\n",
        "Print Statement: Python 2 → print \"Hello\" | Python 3 → print(\"Hello\").\n",
        "\n",
        "Division: Python 2 → 5/2 = 2 | Python 3 → 5/2 = 2.5.\n",
        "\n",
        "Unicode: Python 3 supports Unicode by default, Python 2 does not.\n",
        "\n",
        "Python 2 is outdated (no updates), Python 3 is the standard.\n",
        "\n",
        "4. What are Python’s applications in real-world projects?\n",
        "Web development → Django, Flask.\n",
        "\n",
        "Data Science & AI → Pandas, NumPy, TensorFlow.\n",
        "\n",
        "Automation/Scripting → Automating tasks like file handling, testing.\n",
        "\n",
        "Game development → Pygame.\n",
        "\n",
        "IoT & Robotics → Raspberry Pi projects.\n",
        "\n",
        "\n",
        "5. What is PEP 8 and why is it important in Python programming?\n",
        "PEP 8 = Python Enhancement Proposal 8.\n",
        "\n",
        "It gives coding style guidelines (naming rules, indentation, spacing).\n",
        "\n",
        "Important because:\n",
        "\n",
        "Makes code clean & consistent.\n",
        "\n",
        "Easy for teams to read each other’s code.\n",
        "\n",
        "Prevents silly errors due to bad formatting.\n",
        "\n",
        "6. Who developed Python and in which year was it released?\n",
        "Created by Guido van Rossum, a Dutch programmer.\n",
        "\n",
        "Released in 1991 while he was working at CWI (Netherlands).\n",
        "\n",
        "Designed to be easy to read, simple, and powerful compared to C.\n",
        "\n",
        "Named after the comedy show “Monty Python’s Flying Circus”, not the snake.\n",
        "\n",
        "Later became open-source, with a huge global community supporting it.\n",
        "\n",
        "7. What do you mean by “dynamically typed” in Python?\n",
        "\n",
        "In Python, you don’t need to declare the type of a variable.\n",
        "\n",
        "Example:\n",
        "\n",
        "x = 10     # integer  \n",
        "x = \"Hi\"   # now string, allowed\n",
        "\n",
        "\n",
        "The type is decided at runtime, not before.\n",
        "\n",
        "Advantage → Flexible.\n",
        "\n",
        "Disadvantage → More chances of runtime errors if not careful.\n",
        "\n",
        "8. What is the difference between a compiler and an interpreter, and which does Python use?\n",
        "Compiler: Translates the whole program into machine code at once (e.g., C, C++).\n",
        "\n",
        "Interpreter: Runs code line by line (e.g., Python, JavaScript).\n",
        "\n",
        "Python uses an interpreter, which makes it easy to debug but a bit slower than compiled languages."
      ],
      "metadata": {
        "id": "eHGEjTSyotez"
      }
    },
    {
      "cell_type": "markdown",
      "source": [
        "ASSIGNMENT 2 : [03-09-2025]\n",
        "1. Write a Python program that takes the length and width of a rectangle from the user and prints its area.\n",
        "\n",
        "2. Write a program that asks the user for the side of a square and prints its perimeter.\n",
        "\n",
        "3. Take the base and height of a triangle as input and print its area.\n",
        "4. Write a program that asks the user for the radius of a circle and prints its circumference. (Use 3.14 for π).\n",
        "\n",
        "5. Take Principal (P), Rate (R), and Time (T) as input from the user and print the Simple Interest."
      ],
      "metadata": {
        "id": "DkOPbQljRN2g"
      }
    },
    {
      "cell_type": "code",
      "source": [
        "#1. Area of a Rectangle\n",
        "#Formula: Area = Length * Width\n",
        "leng = float(input(\"Enter rectangle length: \"))\n",
        "wid= float(input(\"Enter rectangle width: \"))\n",
        "area = leng * wid\n",
        "print(\"Area of Rectangle =\", area)"
      ],
      "metadata": {
        "colab": {
          "base_uri": "https://localhost:8080/"
        },
        "id": "Tng6GOaxVRCo",
        "outputId": "7aacfc3a-120a-4202-e87a-fd3d3f63796f"
      },
      "execution_count": null,
      "outputs": [
        {
          "output_type": "stream",
          "name": "stdout",
          "text": [
            "Enter rectangle length: 4\n",
            "Enter rectangle width: 8\n",
            "Area of Rectangle = 32.0\n"
          ]
        }
      ]
    },
    {
      "cell_type": "code",
      "source": [
        "# 2. Perimeter of a Square\n",
        "# Formula: Perimeter = 4 × Side\n",
        "side = float(input(\"Enter square side length: \"))\n",
        "per = 4 * side\n",
        "print(\" Perimeter of Square =\", per)"
      ],
      "metadata": {
        "colab": {
          "base_uri": "https://localhost:8080/"
        },
        "id": "6n7vuRBMXTdb",
        "outputId": "44c93660-e965-4393-8946-93575bf1a3da"
      },
      "execution_count": null,
      "outputs": [
        {
          "output_type": "stream",
          "name": "stdout",
          "text": [
            "Enter square side length: 8\n",
            " Perimeter of Square = 32.0\n"
          ]
        }
      ]
    },
    {
      "cell_type": "code",
      "source": [
        "# 3. Area of a Triangle\n",
        "# Formula: Area = 1/2 × Base × Height\n",
        "a = float(input(\"\\nEnter triangle base: \"))\n",
        "b = float(input(\"Enter triangle height: \"))\n",
        "triangle = 0.5 * a * b\n",
        "print(\"Area of Triangle =\", triangle)"
      ],
      "metadata": {
        "colab": {
          "base_uri": "https://localhost:8080/"
        },
        "id": "crB9iIQfXc1O",
        "outputId": "997f6a3b-9d06-49fb-970b-d4a01716e0fd"
      },
      "execution_count": null,
      "outputs": [
        {
          "output_type": "stream",
          "name": "stdout",
          "text": [
            "\n",
            "Enter triangle base: 4\n",
            "Enter triangle height: 8\n",
            "Area of Triangle = 16.0\n"
          ]
        }
      ]
    },
    {
      "cell_type": "code",
      "source": [
        "# 4. Circumference of a Circle\n",
        "# Formula: Circumference = 2 × π × Radius (π = 3.14)\n",
        "rad = float(input(\"Enter circle radius: \"))\n",
        "circumference = 2 * 3.14 * rad\n",
        "print(\" Circumference of Circle =\", circumference)"
      ],
      "metadata": {
        "colab": {
          "base_uri": "https://localhost:8080/"
        },
        "id": "C5OKca4eYYTR",
        "outputId": "836495c4-a84d-423a-bba9-54161ad1ff63"
      },
      "execution_count": null,
      "outputs": [
        {
          "output_type": "stream",
          "name": "stdout",
          "text": [
            "Enter circle radius: 10\n",
            " Circumference of Circle = 62.800000000000004\n"
          ]
        }
      ]
    },
    {
      "cell_type": "code",
      "source": [
        "# 5. Simple Interest\n",
        "# Formula: SI = (P × R × T) / 100\n",
        "p = float(input(\"\\nEnter Principal Amount: \"))\n",
        "r = float(input(\"Enter Rate of Interest : \"))\n",
        "t = float(input(\"Enter Time in years: \"))\n",
        "Simple_Interest = (p * r * t) / 100\n",
        "print(\" Simple Interest =\", Simple_Interest)"
      ],
      "metadata": {
        "colab": {
          "base_uri": "https://localhost:8080/"
        },
        "id": "SwFdlHNuYeq1",
        "outputId": "09df7522-e985-408c-bb3c-6614a9f692ce"
      },
      "execution_count": null,
      "outputs": [
        {
          "output_type": "stream",
          "name": "stdout",
          "text": [
            "\n",
            "Enter Principal Amount: 10000\n",
            "Enter Rate of Interest : 2\n",
            "Enter Time in years: 2\n",
            " Simple Interest = 400.0\n"
          ]
        }
      ]
    },
    {
      "cell_type": "markdown",
      "source": [
        "ASSIGNMENT 3 [09-09-2025]\n",
        "1. E-commerce Discount Calculator\n",
        "\n",
        "Scenario: An online store offers discounts based on the purchase amount:\n",
        "\n",
        "10% discount for purchases between $100 and $500\n",
        "\n",
        "20% discount for purchases above $500\n",
        "\n",
        "No discount for purchases below $100\n",
        "\n",
        "\n",
        "Task: Write a program that takes the purchase amount as input and calculates the discount and final amount to be paid.\n",
        "\n",
        "\n",
        "---\n",
        "\n",
        "2. Traffic Light Simulation\n",
        "\n",
        "Scenario: Create a program that simulates a traffic light. The user inputs one of the colors: Red, Yellow, or Green. Based on the input:\n",
        "\n",
        "If the input is Red, display \"Stop.\"\n",
        "\n",
        "If the input is Yellow, display \"Ready to move.\"\n",
        "\n",
        "If the input is Green, display \"Go.\"\n",
        "\n",
        "For invalid input, display \"Invalid color.\"\n",
        "\n",
        "\n",
        "\n",
        "---\n",
        "\n",
        "3. Grade Evaluation System\n",
        "\n",
        "Scenario: A school uses the following grading system:\n",
        "\n",
        "Marks >= 90: Grade A\n",
        "\n",
        "Marks >= 75 and < 90: Grade B\n",
        "\n",
        "Marks >= 50 and < 75: Grade C\n",
        "\n",
        "Marks < 50: Fail\n",
        "\n",
        "\n",
        "Task: Write a program that accepts the student's marks and displays their grade.\n",
        "\n",
        "\n",
        "---\n",
        "\n",
        "4. Odd or Even and Divisibility Check\n",
        "\n",
        "Scenario: Write a program that takes an integer as input and checks:\n",
        "\n",
        "Whether the number is odd or even\n",
        "\n",
        "Whether the number is divisible by 5\n",
        "\n",
        "\n",
        "Display appropriate messages for both conditions.\n",
        "\n",
        "\n",
        "---\n",
        "\n",
        "5. Password Strength Checker\n",
        "\n",
        "Scenario: Write a program that checks the strength of a password based on these rules:\n",
        "\n",
        "Length >= 8 characters: Strong\n",
        "\n",
        "Length between 5 and 7 characters: Medium\n",
        "\n",
        "Length < 5 characters: Weak\n",
        "\n",
        "\n",
        "\n",
        "---\n",
        "\n",
        "6. Electricity Bill Calculator\n",
        "\n",
        "Scenario: An electricity company charges its customers as follows:\n",
        "\n",
        "First 100 units: $0.5 per unit\n",
        "\n",
        "Next 100 units (101-200): $0.75 per unit\n",
        "\n",
        "Above 200 units: $1 per unit\n",
        "\n",
        "\n",
        "Task: Write a program that accepts the number of units consumed and calculates the total bill.\n",
        "\n",
        "\n",
        "---\n",
        "\n",
        "7. Eligibility for Loan Approval\n",
        "\n",
        "Scenario: A bank approves loans based on these conditions:\n",
        "\n",
        "Age should be between 21 and 60\n",
        "\n",
        "Monthly income should be greater than or equal to $5000\n",
        "\n",
        "\n",
        "Task: Write a program to check whether a person is eligible for the loan based on their age and monthly income.\n",
        "\n",
        "\n",
        "---\n",
        "\n",
        "8. Temperature Alert System\n",
        "\n",
        "Scenario: A weather monitoring system alerts based on the temperature:\n",
        "\n",
        "Below 0°C: \"Freezing weather\"\n",
        "\n",
        "0°C to 20°C: \"Cold weather\"\n",
        "\n",
        "21°C to 30°C: \"Warm weather\"\n",
        "\n",
        "Above 30°C: \"Hot weather\"\n",
        "\n",
        "\n",
        "Task: Write a program that takes the temperature as input and displays the corresponding alert message."
      ],
      "metadata": {
        "id": "poApe_kR7EaL"
      }
    },
    {
      "cell_type": "code",
      "source": [
        "#1. E-commerce Discount Calculator\n",
        "amount=int(input(\"Enter the purchase amount: $\"))\n",
        "if (amount <100):\n",
        "  print(\"No discount for purchases below $100\")\n",
        "  discount=0\n",
        "elif (amount >=100 and amount <=500):\n",
        "  print(\"10% discount for purchases between $100 and $500\")\n",
        "  discount=amount*10/100\n",
        "elif(amount>500):\n",
        "  print(\"20 % discount for purchases above $500\")\n",
        "  discount=amount*20/100\n",
        "print(\"Total amount to be paid: $\",amount-discount)\n",
        "\n"
      ],
      "metadata": {
        "colab": {
          "base_uri": "https://localhost:8080/"
        },
        "id": "fSCfMDhm72dB",
        "outputId": "4cf01938-2b69-4934-b328-45bdd839f064"
      },
      "execution_count": null,
      "outputs": [
        {
          "output_type": "stream",
          "name": "stdout",
          "text": [
            "Enter the purchase amount: $500\n",
            "10% discount for purchases between $100 and $500\n",
            "Total amount to be paid: $ 450.0\n"
          ]
        }
      ]
    },
    {
      "cell_type": "code",
      "source": [
        "#2.traffic lightsimulations:\n",
        "color=(input(\"Enter the color:\"))\n",
        "if(color == \"red\"):\n",
        "  print(\"Stop\")\n",
        "elif(color==\"yellow\"):\n",
        "  print(\"Ready to move\")\n",
        "elif(color==\"green\"):\n",
        "  print(\"Go\")\n",
        "else:\n",
        "  print(\"Invalid color\")\n"
      ],
      "metadata": {
        "colab": {
          "base_uri": "https://localhost:8080/"
        },
        "id": "eCtk9k2iD_wd",
        "outputId": "735ce056-5b50-49f6-dbda-423f411161c4"
      },
      "execution_count": null,
      "outputs": [
        {
          "output_type": "stream",
          "name": "stdout",
          "text": [
            "Enter the color:red\n",
            "Stop\n"
          ]
        }
      ]
    },
    {
      "cell_type": "code",
      "source": [
        "#3. Grade Evaluation\n",
        "marks=int(input(\"Enter the marks:\"))\n",
        "if(marks>=90):\n",
        "  print(\"Grade A\")\n",
        "elif(marks>=75 and marks<90):\n",
        "  print(\"Grade B\")\n",
        "elif(marks>=50 and marks<75):\n",
        "  print(\"Grade C\")\n",
        "elif(marks<50):\n",
        "  print(\"Fail\")\n"
      ],
      "metadata": {
        "colab": {
          "base_uri": "https://localhost:8080/"
        },
        "id": "-sEydcSWFgIR",
        "outputId": "5e0b5889-868c-4805-eba3-fddf56a04d92"
      },
      "execution_count": null,
      "outputs": [
        {
          "output_type": "stream",
          "name": "stdout",
          "text": [
            "Enter the marks:58\n",
            "Grade C\n"
          ]
        }
      ]
    },
    {
      "cell_type": "code",
      "source": [
        "# 4.odd or Even and Divisibility Check\n",
        "num=int(input(\"Enter the number:\"))\n",
        "if(num%2==0):\n",
        "  print(\"Given number is Even \")\n",
        "else:\n",
        "  print(\"Given number is odd\")\n",
        "if(num%5==0):\n",
        "    print(\"Given  number is divisible by 5\")\n",
        "else:\n",
        "     print(\"Given number is not divisible by 5\")\n",
        "\n",
        "\n"
      ],
      "metadata": {
        "colab": {
          "base_uri": "https://localhost:8080/"
        },
        "id": "zrvYs1q2GTgD",
        "outputId": "fcfc03f5-9be7-4d07-b90e-bedf3eeba41d"
      },
      "execution_count": null,
      "outputs": [
        {
          "output_type": "stream",
          "name": "stdout",
          "text": [
            "Enter the number:20\n",
            "Given number is Even \n",
            "Given  number is divisible by 5\n"
          ]
        }
      ]
    },
    {
      "cell_type": "code",
      "source": [
        "#5.Password Strength Checker\n",
        "password= input(\"enter the password:\")\n",
        "if(len(password)>=8):\n",
        "  print(\"Strong\")\n",
        "elif(len(password)>=5 and len(password)<=7):\n",
        "  print(\"Medium\")\n",
        "elif(len(password)<5):\n",
        "  print(\"Weak\")\n",
        "else:\n",
        "  print(\"Invalid Input\")\n"
      ],
      "metadata": {
        "colab": {
          "base_uri": "https://localhost:8080/"
        },
        "id": "ICPNlBMXIUFZ",
        "outputId": "33c42e4f-1101-44aa-a08f-3723c5329a60"
      },
      "execution_count": null,
      "outputs": [
        {
          "output_type": "stream",
          "name": "stdout",
          "text": [
            "enter the password:Vijay Raj \n",
            "Strong\n"
          ]
        }
      ]
    },
    {
      "cell_type": "code",
      "source": [
        "#6.Elecricity Bill Calcultor\n",
        "unit=int(input(\"Enter the number of units:\"))\n",
        "if(unit<=100):\n",
        "  print(\" Bill\",unit*0.5)\n",
        "elif(unit<=200):\n",
        "  print(\"Bill\",unit*0.75)\n",
        "elif(unit>200):\n",
        "  print(\"Bill\",unit*1)\n",
        "\n"
      ],
      "metadata": {
        "colab": {
          "base_uri": "https://localhost:8080/"
        },
        "id": "fzbiOrTTLP9m",
        "outputId": "9f812720-5f3a-4f8a-fb4c-9447180850ae"
      },
      "execution_count": null,
      "outputs": [
        {
          "output_type": "stream",
          "name": "stdout",
          "text": [
            "Enter the number of units:150\n",
            "Bill 112.5\n"
          ]
        }
      ]
    },
    {
      "cell_type": "code",
      "source": [
        "#7.Eligibility for laon approval\n",
        "age=int(input(\"Enter the age:\"))\n",
        "income=int(input(\"Enter the income:\"))\n",
        "if(age>=21 and age<=60):\n",
        "  if(income>=5000):\n",
        "    print(\"Eligible for loan\")"
      ],
      "metadata": {
        "colab": {
          "base_uri": "https://localhost:8080/"
        },
        "id": "Ktuv2lKRL_Jp",
        "outputId": "c079b8c6-f53c-4a1d-be5f-93ef3d41afe3"
      },
      "execution_count": null,
      "outputs": [
        {
          "output_type": "stream",
          "name": "stdout",
          "text": [
            "Enter the age:22\n",
            "Enter the income:20000\n",
            "Eligible for loan\n"
          ]
        }
      ]
    },
    {
      "cell_type": "code",
      "source": [
        "#8.Temperature alert\n",
        "temp=float(input(\"Enter the temperature:\"))\n",
        "if(temp<0):\n",
        "  print(\"Freezing weather\")\n",
        "elif(temp>=0 and temp<=20):\n",
        "  print(\"Cold weather\")\n",
        "elif(temp>=21 and temp<=30):\n",
        "  print(\"Warm weather\")"
      ],
      "metadata": {
        "id": "Amk-o9BbO8C6",
        "colab": {
          "base_uri": "https://localhost:8080/"
        },
        "outputId": "b8011132-a78f-4bd7-e8c8-172984de0cad"
      },
      "execution_count": 36,
      "outputs": [
        {
          "output_type": "stream",
          "name": "stdout",
          "text": [
            "Enter the temperature:2\n",
            "Cold weather\n"
          ]
        }
      ]
    }
  ]
}