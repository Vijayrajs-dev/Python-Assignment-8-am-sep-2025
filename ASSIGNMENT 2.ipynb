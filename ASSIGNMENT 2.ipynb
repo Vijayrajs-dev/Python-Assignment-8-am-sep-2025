{
 "cells": [
  {
   "cell_type": "raw",
   "id": "216b2963-de4a-497d-aef9-a24afc45868a",
   "metadata": {},
   "source": [
    "1. Write a Python program that takes the length and width of a rectangle from the user and prints its area.\n",
    "\n",
    "\n",
    "2. Write a program that asks the user for the side of a square and prints its perimeter.\n",
    "\n",
    "\n",
    "3. Take the base and height of a triangle as input and print its area.\n",
    "\n",
    "\n",
    "4. Write a program that asks the user for the radius of a circle and prints its circumference. (Use 3.14 for π).\n",
    "\n",
    "\n",
    "5. Take Principal (P), Rate (R), and Time (T) as input from the user and print the Simple Interest.\n"
   ]
  },
  {
   "cell_type": "code",
   "execution_count": 4,
   "id": "766c5d23-65a6-4c65-954d-87f0f896a804",
   "metadata": {},
   "outputs": [
    {
     "name": "stdin",
     "output_type": "stream",
     "text": [
      "Enter rectangle length:  4\n",
      "Enter rectangle width:  2\n"
     ]
    },
    {
     "name": "stdout",
     "output_type": "stream",
     "text": [
      "Area of Rectangle = 8.0\n"
     ]
    },
    {
     "name": "stdin",
     "output_type": "stream",
     "text": [
      "Enter square side length:  4\n"
     ]
    },
    {
     "name": "stdout",
     "output_type": "stream",
     "text": [
      " Perimeter of Square = 16.0\n"
     ]
    },
    {
     "name": "stdin",
     "output_type": "stream",
     "text": [
      "\n",
      "Enter triangle base:  2\n",
      "Enter triangle height:  3\n"
     ]
    },
    {
     "name": "stdout",
     "output_type": "stream",
     "text": [
      "Area of Triangle = 3.0\n"
     ]
    },
    {
     "name": "stdin",
     "output_type": "stream",
     "text": [
      "Enter circle radius:  6\n"
     ]
    },
    {
     "name": "stdout",
     "output_type": "stream",
     "text": [
      " Circumference of Circle = 37.68\n"
     ]
    },
    {
     "name": "stdin",
     "output_type": "stream",
     "text": [
      "\n",
      "Enter Principal Amount (P):  200\n",
      "Enter Rate of Interest (R):  20\n",
      "Enter Time in years (T):  2\n"
     ]
    },
    {
     "name": "stdout",
     "output_type": "stream",
     "text": [
      " Simple Interest = 80.0\n"
     ]
    }
   ],
   "source": [
    "#4 1. Area of a Rectangle\n",
    "#Formula: Area = Length * Width\n",
    "length = float(input(\"Enter rectangle length: \"))\n",
    "width = float(input(\"Enter rectangle width: \"))\n",
    "area = length * width\n",
    "print(\"Area of Rectangle =\", area)\n",
    "\n",
    "\n",
    "# 2. Perimeter of a Square\n",
    "# Formula: 1Perimeter = 4 × Side\n",
    "side = float(input(\"Enter square side length: \"))\n",
    "perimeter = 4 * side\n",
    "print(\" Perimeter of Square =\", perimeter)\n",
    "\n",
    "\n",
    "# 3. Area of a Triangle\n",
    "# Formula: Area = 1/2 × Base × Height\n",
    "base = float(input(\"\\nEnter triangle base: \"))\n",
    "height = float(input(\"Enter triangle height: \"))\n",
    "triangle_area = 0.5 * base * height\n",
    "print(\"Area of Triangle =\", triangle_area)\n",
    "\n",
    "\n",
    "# 4. Circumference of a Circle\n",
    "# Formula: Circumference = 2 × π × Radius (π = 3.14)\n",
    "radius = float(input(\"Enter circle radius: \"))\n",
    "circumference = 2 * 3.14 * radius\n",
    "print(\" Circumference of Circle =\", circumference)\n",
    "\n",
    "\n",
    "# 5. Simple Interest\n",
    "# Formula: SI = (P × R × T) / 100\n",
    "principal = float(input(\"\\nEnter Principal Amount (P): \"))\n",
    "rate = float(input(\"Enter Rate of Interest (R): \"))\n",
    "time = float(input(\"Enter Time in years (T): \"))\n",
    "simple_interest = (principal * rate * time) / 100\n",
    "print(\" Simple Interest =\", simple_interest)\n"
   ]
  },
  {
   "cell_type": "code",
   "execution_count": null,
   "id": "6e448af7-6ef5-4da6-ad78-5d4154eec70d",
   "metadata": {},
   "outputs": [],
   "source": []
  }
 ],
 "metadata": {
  "kernelspec": {
   "display_name": "Python [conda env:base] *",
   "language": "python",
   "name": "conda-base-py"
  },
  "language_info": {
   "codemirror_mode": {
    "name": "ipython",
    "version": 3
   },
   "file_extension": ".py",
   "mimetype": "text/x-python",
   "name": "python",
   "nbconvert_exporter": "python",
   "pygments_lexer": "ipython3",
   "version": "3.13.5"
  }
 },
 "nbformat": 4,
 "nbformat_minor": 5
}
